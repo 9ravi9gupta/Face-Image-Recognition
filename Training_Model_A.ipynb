{
 "cells": [
  {
   "cell_type": "code",
   "execution_count": 1,
   "metadata": {},
   "outputs": [
    {
     "name": "stderr",
     "output_type": "stream",
     "text": [
      "C:\\Users\\RAVI GUPTA\\Anaconda3\\lib\\site-packages\\h5py\\__init__.py:36: FutureWarning: Conversion of the second argument of issubdtype from `float` to `np.floating` is deprecated. In future, it will be treated as `np.float64 == np.dtype(float).type`.\n",
      "  from ._conv import register_converters as _register_converters\n"
     ]
    }
   ],
   "source": [
    "import tensorflow as tf\n",
    "import pandas as pd\n",
    "import numpy as np\n",
    "import os\n",
    "import matplotlib.pyplot as plt\n",
    "%matplotlib inline"
   ]
  },
  {
   "cell_type": "code",
   "execution_count": 3,
   "metadata": {},
   "outputs": [
    {
     "name": "stderr",
     "output_type": "stream",
     "text": [
      "Using TensorFlow backend.\n"
     ]
    }
   ],
   "source": [
    "#--Importing keras model and necessary classes\n",
    "from keras.models import Model\n",
    "from keras.models import Sequential\n",
    "from keras.layers import Activation,Conv2D,Dense,MaxPool2D,Input,Flatten,BatchNormalization,Dropout\n",
    "from keras.models import model_from_yaml"
   ]
  },
  {
   "cell_type": "markdown",
   "metadata": {},
   "source": [
    "# Pre_Processing the Devanagari files images"
   ]
  },
  {
   "cell_type": "code",
   "execution_count": 1,
   "metadata": {},
   "outputs": [],
   "source": [
    "akshar_image_folders = os.listdir(\"train\")"
   ]
  },
  {
   "cell_type": "code",
   "execution_count": 3,
   "metadata": {},
   "outputs": [],
   "source": [
    "list_of_images = []\n",
    "\n",
    "list_of_labels = []\n",
    "\n",
    "label_index = 0\n",
    "\n",
    "for akshar_folder in akshar_image_folders:\n",
    "    \n",
    "    each_folder_path = os.path.join(\"train\",\n",
    "                                   akshar_folder)\n",
    "    \n",
    "    images = os.listdir(each_folder_path)\n",
    "    \n",
    "    img_shape = plt.imread(os.path.join(each_folder_path,images[0])).shape\n",
    "    \n",
    "    blank_array = np.zeros((len(images),(img_shape[0]*img_shape[1]))) \n",
    "    \n",
    "    blank_label_array = label_index*(np.ones((len(images),1)))\n",
    "    \n",
    "    index = 0\n",
    "    \n",
    "    for image in images:\n",
    "        \n",
    "        img_in_array = plt.imread(os.path.join(each_folder_path,image))\n",
    "        \n",
    "        blank_array[index] = img_in_array.reshape(1,(img_in_array.shape[0]*img_in_array.shape[1]))\n",
    "        \n",
    "        index += 1\n",
    "        \n",
    "    list_of_images.append(blank_array)\n",
    "    \n",
    "    list_of_labels.append(blank_label_array)\n",
    "    \n",
    "    label_index += 1"
   ]
  },
  {
   "cell_type": "code",
   "execution_count": 4,
   "metadata": {},
   "outputs": [
    {
     "name": "stdout",
     "output_type": "stream",
     "text": [
      "(78200, 1024)\n",
      "(78200, 1)\n"
     ]
    }
   ],
   "source": [
    "tuple_of_label_arrays = tuple(list_of_labels)\n",
    "\n",
    "tuple_of_arrays = tuple(list_of_images)\n",
    "\n",
    "stacked_up_images = np.concatenate(tuple_of_arrays)\n",
    "\n",
    "print(stacked_up_images.shape)\n",
    "\n",
    "stacked_up_labels = np.concatenate(tuple_of_label_arrays)\n",
    "\n",
    "print(stacked_up_labels.shape)\n",
    "\n",
    "stacked_up_labels = np.int32(stacked_up_labels)\n",
    "\n",
    "rawdata = pd.DataFrame(stacked_up_images)"
   ]
  },
  {
   "cell_type": "markdown",
   "metadata": {},
   "source": [
    "# One_Hot_Encoding of the labels"
   ]
  },
  {
   "cell_type": "code",
   "execution_count": 5,
   "metadata": {},
   "outputs": [],
   "source": [
    "#---one hot encoding of labels\n",
    "one_hot_labels = np.eye(len(akshar_image_folders),\n",
    "                        len(akshar_image_folders))[stacked_up_labels[:,0]]"
   ]
  },
  {
   "cell_type": "markdown",
   "metadata": {},
   "source": [
    "# Preparing Model Layers\n",
    "\n",
    "* In this we use 2 Convulational Layers, 2 Hidden Layers and Output layer"
   ]
  },
  {
   "cell_type": "code",
   "execution_count": 8,
   "metadata": {},
   "outputs": [],
   "source": [
    "#--input layer for entering of given data\n",
    "inp_layer = Input(shape=(32,32,1))\n",
    "\n",
    "model = Sequential()\n",
    "\n",
    "#--Creating two convulational layer and before entering of data into next layer we applying batch normalization technique \n",
    "#  which improve accuracy drastically\n",
    "\n",
    "model.add(Conv2D(filters=10,kernel_size=[5,5],activation=tf.nn.relu))\n",
    "model.add(BatchNormalization())\n",
    "\n",
    "model.add(Conv2D(filters=10,kernel_size=[5,5],activation=tf.nn.relu))\n",
    "model.add(BatchNormalization())\n",
    "\n",
    "#--maxpooling the output of convulational layer and before the feeding into Fully Connected Layer\n",
    "#--and this technique help to reduce the no. units of neurons in any layer by downsampling\n",
    "\n",
    "model.add(MaxPool2D(strides=(2,2)))\n",
    "\n",
    "#--streching a image to single row\n",
    "\n",
    "model.add(Flatten())          \n",
    "          \n",
    "#--Creating Two Fully Connected Hidden layer and also use Batch Normalization Techinque\n",
    "\n",
    "model.add(Dense(units=16*16*10,activation=tf.nn.relu,kernel_initializer='he_normal'))\n",
    "model.add(BatchNormalization())\n",
    "          \n",
    "model.add(Dense(units=16*16*10,activation=tf.nn.relu,kernel_initializer='he_normal'))\n",
    "model.add(BatchNormalization())\n",
    "          \n",
    "          \n",
    "#--Ouput layer which contain 46 neurons for 46 classes\n",
    "\n",
    "model.add(Dense(units=46,activation=tf.nn.softmax))"
   ]
  },
  {
   "cell_type": "markdown",
   "metadata": {},
   "source": [
    "# Model Training"
   ]
  },
  {
   "cell_type": "code",
   "execution_count": 9,
   "metadata": {},
   "outputs": [
    {
     "name": "stdout",
     "output_type": "stream",
     "text": [
      "Epoch 1/2\n",
      "78200/78200 [==============================] - 70s 897us/step - loss: 0.5859 - acc: 0.8862\n",
      "Epoch 2/2\n",
      "78200/78200 [==============================] - 53s 678us/step - loss: 0.0667 - acc: 0.9823\n"
     ]
    }
   ],
   "source": [
    "from keras.optimizers import Adam\n",
    "adam = Adam(lr=0.01,beta_1=0.9,beta_2=0.999,decay=0.1)\n",
    "\n",
    "model.compile(loss='categorical_crossentropy',optimizer=adam,metrics=['accuracy'])\n",
    "\n",
    "# stacked_up_images = stacked_up_images/255   --not effective technique in NN ..i think it generally reduce the variability of values which decrease the accuracy\n",
    "\n",
    "reshaped_data = np.reshape(stacked_up_images,(-1,32,32,1))\n",
    "\n",
    "history = model.fit(x=reshaped_data,y=one_hot_labels,batch_size=500,epochs=2,)"
   ]
  },
  {
   "cell_type": "markdown",
   "metadata": {},
   "source": [
    "# Saving The Trained Model"
   ]
  },
  {
   "cell_type": "code",
   "execution_count": 10,
   "metadata": {},
   "outputs": [],
   "source": [
    "model.save_weights('CNN_Devanagari_model.h5')  #--Saving the trained weights of model\n",
    "\n",
    "model_yaml = model.to_yaml()  #--Serialize the Yaml\n",
    "\n",
    "with open('trained_model.yaml','w') as yaml_file:  #--saving the architecture of model\n",
    "    yaml_file.write(model_yaml)"
   ]
  },
  {
   "cell_type": "code",
   "execution_count": 11,
   "metadata": {},
   "outputs": [
    {
     "name": "stdout",
     "output_type": "stream",
     "text": [
      "_________________________________________________________________\n",
      "Layer (type)                 Output Shape              Param #   \n",
      "=================================================================\n",
      "conv2d_1 (Conv2D)            (None, 28, 28, 10)        260       \n",
      "_________________________________________________________________\n",
      "batch_normalization_1 (Batch (None, 28, 28, 10)        40        \n",
      "_________________________________________________________________\n",
      "conv2d_2 (Conv2D)            (None, 24, 24, 10)        2510      \n",
      "_________________________________________________________________\n",
      "batch_normalization_2 (Batch (None, 24, 24, 10)        40        \n",
      "_________________________________________________________________\n",
      "max_pooling2d_1 (MaxPooling2 (None, 12, 12, 10)        0         \n",
      "_________________________________________________________________\n",
      "flatten_1 (Flatten)          (None, 1440)              0         \n",
      "_________________________________________________________________\n",
      "dense_1 (Dense)              (None, 2560)              3688960   \n",
      "_________________________________________________________________\n",
      "batch_normalization_3 (Batch (None, 2560)              10240     \n",
      "_________________________________________________________________\n",
      "dense_2 (Dense)              (None, 2560)              6556160   \n",
      "_________________________________________________________________\n",
      "batch_normalization_4 (Batch (None, 2560)              10240     \n",
      "_________________________________________________________________\n",
      "dense_3 (Dense)              (None, 46)                117806    \n",
      "=================================================================\n",
      "Total params: 10,386,256\n",
      "Trainable params: 10,375,976\n",
      "Non-trainable params: 10,280\n",
      "_________________________________________________________________\n"
     ]
    }
   ],
   "source": [
    "model.summary()"
   ]
  },
  {
   "cell_type": "code",
   "execution_count": 13,
   "metadata": {},
   "outputs": [
    {
     "data": {
      "image/png": "[encoded data removed]",
      "text/plain": [
       "<Figure size 432x288 with 2 Axes>"
      ]
     },
     "metadata": {},
     "output_type": "display_data"
    }
   ],
   "source": [
    "from matplotlib import pyplot\n",
    "\n",
    "pyplot.subplot(211)\n",
    "pyplot.title('Loss')\n",
    "pyplot.plot(history.history['loss'], label=stacked_up_labels[:,0])\n",
    "# pyplot.plot(history.history['val_loss'], label='test')\n",
    "pyplot.legend()\n",
    "# plot accuracy during training\n",
    "pyplot.subplot(212)\n",
    "pyplot.title('Accuracy')\n",
    "pyplot.plot(history.history['acc'], label=stacked_up_labels[:,0])\n",
    "# pyplot.plot(history.history['val_acc'], label='test')\n",
    "pyplot.legend()\n",
    "pyplot.show()"
   ]
  },
  {
   "cell_type": "code",
   "execution_count": null,
   "metadata": {},
   "outputs": [],
   "source": []
  },
  {
   "cell_type": "code",
   "execution_count": null,
   "metadata": {},
   "outputs": [],
   "source": []
  }
 ],
 "metadata": {
  "kernelspec": {
   "display_name": "Python 3",
   "language": "python",
   "name": "python3"
  },
  "language_info": {
   "codemirror_mode": {
    "name": "ipython",
    "version": 3
   },
   "file_extension": ".py",
   "mimetype": "text/x-python",
   "name": "python",
   "nbconvert_exporter": "python",
   "pygments_lexer": "ipython3",
   "version": "3.6.5"
  }
 },
 "nbformat": 4,
 "nbformat_minor": 2
}
