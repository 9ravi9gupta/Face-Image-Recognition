{
 "cells": [
  {
   "cell_type": "markdown",
   "metadata": {},
   "source": [
    "# Face Verification\n",
    "\n",
    "* Face Authentication (also called verification) involves a one to one check that compares an input image (also called a query image, probe image or simply probe) with only the image (or class) that the user claims to be. In simple words, if you stand in front of a face authentication system and claim to be a certain user, the system will ONLY check if you are that user or not.\n",
    "\n",
    "\n",
    "<img src=\"images/face_authentication.jpg\" style=\"width:280px;height:100px;\">\n",
    "\n",
    "\n",
    "# Face Recognition\n",
    "\n",
    "* Face Recognition (or Identification) is another thing, though ofcourse related. It involves a one to many comparison of the input image (or probe or query image) with a template library. In simple words, in a face recognition system the input image will be compared with ALL the classes and then a decision will be made so as to identify to WHO the the input image belongs to. Or if it does not belong to the database at all.\n",
    "\n",
    "<img src=\"images/face_recognition2.jpg\" style=\"width:280px;height:150px;\">\n",
    "\n",
    "\n",
    "Like I just said before, though both Authentication and Recognition are related there are some differences in the method involved, which are obvious due to the different nature of both."
   ]
  },
  {
   "cell_type": "code",
   "execution_count": 1,
   "metadata": {},
   "outputs": [
    {
     "name": "stderr",
     "output_type": "stream",
     "text": [
      "C:\\Users\\RAVI GUPTA\\Anaconda3\\lib\\site-packages\\h5py\\__init__.py:36: FutureWarning: Conversion of the second argument of issubdtype from `float` to `np.floating` is deprecated. In future, it will be treated as `np.float64 == np.dtype(float).type`.\n",
      "  from ._conv import register_converters as _register_converters\n"
     ]
    }
   ],
   "source": [
    "import tensorflow as tf\n",
    "import pandas as pd\n",
    "import numpy as np\n",
    "import os\n",
    "import matplotlib.pyplot as plt"
   ]
  },
  {
   "cell_type": "code",
   "execution_count": 2,
   "metadata": {},
   "outputs": [
    {
     "name": "stderr",
     "output_type": "stream",
     "text": [
      "Using TensorFlow backend.\n"
     ]
    }
   ],
   "source": [
    "from keras.models import load_model\n",
    "#--Importing keras model and necessary classes\n",
    "from keras.models import Model\n",
    "from keras.models import Sequential\n",
    "from keras.layers import Activation,Conv2D,Dense,MaxPool2D,Input,Flatten,BatchNormalization,Dropout\n",
    "from keras.models import model_from_yaml\n",
    "\n"
   ]
  },
  {
   "cell_type": "code",
   "execution_count": null,
   "metadata": {},
   "outputs": [],
   "source": []
  },
  {
   "cell_type": "markdown",
   "metadata": {},
   "source": [
    "# Loading Data"
   ]
  },
  {
   "cell_type": "code",
   "execution_count": 3,
   "metadata": {},
   "outputs": [],
   "source": [
    "akshar_image_folders = os.listdir(\"train\")"
   ]
  },
  {
   "cell_type": "code",
   "execution_count": 4,
   "metadata": {},
   "outputs": [],
   "source": [
    "list_of_images = []\n",
    "\n",
    "list_of_labels = []\n",
    "\n",
    "label_index = 0\n",
    "\n",
    "for akshar_folder in akshar_image_folders:\n",
    "    \n",
    "    each_folder_path = os.path.join(\"train\",\n",
    "                                   akshar_folder)\n",
    "    \n",
    "    images = os.listdir(each_folder_path)\n",
    "    \n",
    "    img_shape = plt.imread(os.path.join(each_folder_path,images[0])).shape\n",
    "    \n",
    "    blank_array = np.zeros((len(images),(img_shape[0]*img_shape[1]))) \n",
    "    \n",
    "    blank_label_array = label_index*(np.ones((len(images),1)))\n",
    "    \n",
    "    index = 0\n",
    "    \n",
    "    for image in images:\n",
    "        \n",
    "        img_in_array = plt.imread(os.path.join(each_folder_path,image))\n",
    "        \n",
    "        blank_array[index] = img_in_array.reshape(1,(img_in_array.shape[0]*img_in_array.shape[1]))\n",
    "        \n",
    "        index += 1\n",
    "        \n",
    "    list_of_images.append(blank_array)\n",
    "    \n",
    "    list_of_labels.append(blank_label_array)\n",
    "    \n",
    "    label_index += 1"
   ]
  },
  {
   "cell_type": "code",
   "execution_count": 5,
   "metadata": {},
   "outputs": [
    {
     "name": "stdout",
     "output_type": "stream",
     "text": [
      "(78200, 1024)\n",
      "(78200, 1)\n"
     ]
    }
   ],
   "source": [
    "tuple_of_label_arrays = tuple(list_of_labels)\n",
    "\n",
    "tuple_of_arrays = tuple(list_of_images)\n",
    "\n",
    "stacked_up_images = np.concatenate(tuple_of_arrays)\n",
    "\n",
    "print(stacked_up_images.shape)\n",
    "\n",
    "stacked_up_labels = np.concatenate(tuple_of_label_arrays)\n",
    "\n",
    "print(stacked_up_labels.shape)\n",
    "\n",
    "stacked_up_labels = np.int32(stacked_up_labels)\n",
    "\n",
    "rawdata = pd.DataFrame(stacked_up_images)"
   ]
  },
  {
   "cell_type": "code",
   "execution_count": null,
   "metadata": {},
   "outputs": [],
   "source": []
  },
  {
   "cell_type": "markdown",
   "metadata": {},
   "source": [
    "#  Loading Pre Trained Model"
   ]
  },
  {
   "cell_type": "code",
   "execution_count": 15,
   "metadata": {},
   "outputs": [],
   "source": [
    "with open('trained_model.yaml','r') as yaml_file:\n",
    "    trained_model_yaml = yaml_file.read()\n",
    "  \n",
    "  \n",
    "pre_trained_model = model_from_yaml(trained_model_yaml)\n",
    "  \n",
    "pre_trained_model.load_weights('CNN_Devanagari_model.h5')"
   ]
  },
  {
   "cell_type": "code",
   "execution_count": 16,
   "metadata": {},
   "outputs": [
    {
     "name": "stdout",
     "output_type": "stream",
     "text": [
      "_________________________________________________________________\n",
      "Layer (type)                 Output Shape              Param #   \n",
      "=================================================================\n",
      "conv2d_1 (Conv2D)            (None, 28, 28, 10)        260       \n",
      "_________________________________________________________________\n",
      "batch_normalization_1 (Batch (None, 28, 28, 10)        40        \n",
      "_________________________________________________________________\n",
      "conv2d_2 (Conv2D)            (None, 24, 24, 10)        2510      \n",
      "_________________________________________________________________\n",
      "batch_normalization_2 (Batch (None, 24, 24, 10)        40        \n",
      "_________________________________________________________________\n",
      "max_pooling2d_1 (MaxPooling2 (None, 12, 12, 10)        0         \n",
      "_________________________________________________________________\n",
      "flatten_1 (Flatten)          (None, 1440)              0         \n",
      "_________________________________________________________________\n",
      "dense_1 (Dense)              (None, 2560)              3688960   \n",
      "_________________________________________________________________\n",
      "batch_normalization_3 (Batch (None, 2560)              10240     \n",
      "_________________________________________________________________\n",
      "dense_2 (Dense)              (None, 2560)              6556160   \n",
      "_________________________________________________________________\n",
      "batch_normalization_4 (Batch (None, 2560)              10240     \n",
      "_________________________________________________________________\n",
      "dense_3 (Dense)              (None, 46)                117806    \n",
      "=================================================================\n",
      "Total params: 10,386,256\n",
      "Trainable params: 10,375,976\n",
      "Non-trainable params: 10,280\n",
      "_________________________________________________________________\n"
     ]
    }
   ],
   "source": [
    "# pre_trained_model.compile(loss='categorical_crossentropy',optimizer='adam',metrics=['accuracy'])\n",
    "\n",
    "pre_trained_model.summary()"
   ]
  },
  {
   "cell_type": "code",
   "execution_count": null,
   "metadata": {},
   "outputs": [],
   "source": []
  },
  {
   "cell_type": "markdown",
   "metadata": {},
   "source": [
    "# Adding 128 Dimensional Vector Layer"
   ]
  },
  {
   "cell_type": "code",
   "execution_count": 18,
   "metadata": {},
   "outputs": [],
   "source": [
    "pre_trained_model.add(Dense(units=128,activation=tf.nn.relu,kernel_initializer='he_normal'))\n",
    "\n",
    "# pre_trained_model.compile(loss='categorical_crossentropy',optimizer='adam',metrics=['accuracy'])"
   ]
  },
  {
   "cell_type": "code",
   "execution_count": 19,
   "metadata": {},
   "outputs": [
    {
     "name": "stdout",
     "output_type": "stream",
     "text": [
      "_________________________________________________________________\n",
      "Layer (type)                 Output Shape              Param #   \n",
      "=================================================================\n",
      "conv2d_1 (Conv2D)            (None, 28, 28, 10)        260       \n",
      "_________________________________________________________________\n",
      "batch_normalization_1 (Batch (None, 28, 28, 10)        40        \n",
      "_________________________________________________________________\n",
      "conv2d_2 (Conv2D)            (None, 24, 24, 10)        2510      \n",
      "_________________________________________________________________\n",
      "batch_normalization_2 (Batch (None, 24, 24, 10)        40        \n",
      "_________________________________________________________________\n",
      "max_pooling2d_1 (MaxPooling2 (None, 12, 12, 10)        0         \n",
      "_________________________________________________________________\n",
      "flatten_1 (Flatten)          (None, 1440)              0         \n",
      "_________________________________________________________________\n",
      "dense_1 (Dense)              (None, 2560)              3688960   \n",
      "_________________________________________________________________\n",
      "batch_normalization_3 (Batch (None, 2560)              10240     \n",
      "_________________________________________________________________\n",
      "dense_2 (Dense)              (None, 2560)              6556160   \n",
      "_________________________________________________________________\n",
      "batch_normalization_4 (Batch (None, 2560)              10240     \n",
      "_________________________________________________________________\n",
      "dense_3 (Dense)              (None, 46)                117806    \n",
      "_________________________________________________________________\n",
      "dense_5 (Dense)              (None, 128)               6016      \n",
      "=================================================================\n",
      "Total params: 10,386,256\n",
      "Trainable params: 10,375,976\n",
      "Non-trainable params: 10,280\n",
      "_________________________________________________________________\n"
     ]
    },
    {
     "name": "stderr",
     "output_type": "stream",
     "text": [
      "C:\\Users\\RAVI GUPTA\\Anaconda3\\lib\\site-packages\\keras\\engine\\training.py:490: UserWarning: Discrepancy between trainable weights and collected trainable weights, did you set `model.trainable` without calling `model.compile` after ?\n",
      "  'Discrepancy between trainable weights and collected trainable'\n"
     ]
    }
   ],
   "source": [
    "pre_trained_model.summary()"
   ]
  },
  {
   "cell_type": "code",
   "execution_count": null,
   "metadata": {},
   "outputs": [],
   "source": []
  },
  {
   "cell_type": "markdown",
   "metadata": {},
   "source": [
    "\n",
    "\n",
    "### 1.2 - The Triplet Loss\n",
    "\n",
    "For an image $x$, we denote its encoding $f(x)$, where $f$ is the function computed by the neural network.\n",
    "\n",
    "<img src=\"images/f_x.png\" style=\"width:380px;height:150px;\">\n",
    "\n",
    "<!--\n",
    "We will also add a normalization step at the end of our model so that $\\mid \\mid f(x) \\mid \\mid_2 = 1$ (means the vector of encoding should be of norm 1).\n",
    "!-->\n",
    "\n",
    "Training will use triplets of images $(A, P, N)$:  \n",
    "\n",
    "- A is an \"Anchor\" image--a picture of a person. \n",
    "- P is a \"Positive\" image--a picture of the same person as the Anchor image.\n",
    "- N is a \"Negative\" image--a picture of a different person than the Anchor image.\n",
    "\n",
    "These triplets are picked from our training dataset. We will write $(A^{(i)}, P^{(i)}, N^{(i)})$ to denote the $i$-th training example. \n",
    "\n",
    "You'd like to make sure that an image $A^{(i)}$ of an individual is closer to the Positive $P^{(i)}$ than to the Negative image $N^{(i)}$) by at least a margin $\\alpha$:\n",
    "\n",
    "$$\\mid \\mid f(A^{(i)}) - f(P^{(i)}) \\mid \\mid_2^2 + \\alpha < \\mid \\mid f(A^{(i)}) - f(N^{(i)}) \\mid \\mid_2^2$$\n",
    "\n",
    "You would thus like to minimize the following \"triplet cost\":\n",
    "\n",
    "$$\\mathcal{J} = \\sum^{N}_{i=1} \\large[ \\small \\underbrace{\\mid \\mid f(A^{(i)}) - f(P^{(i)}) \\mid \\mid_2^2}_\\text{(1)} - \\underbrace{\\mid \\mid f(A^{(i)}) - f(N^{(i)}) \\mid \\mid_2^2}_\\text{(2)} + \\alpha \\large ] \\small_+ \\tag{3}$$\n",
    "\n",
    "Here, we are using the notation \"$[z]_+$\" to denote $max(z,0)$.  \n",
    "\n",
    "Notes:\n",
    "- The term (1) is the squared distance between the anchor \"A\" and the positive \"P\" for a given triplet; you want this to be small. \n",
    "- The term (2) is the squared distance between the anchor \"A\" and the negative \"N\" for a given triplet, you want this to be relatively large, so it thus makes sense to have a minus sign preceding it. \n",
    "- $\\alpha$ is called the margin. It is a hyperparameter that you should pick manually. We will use $\\alpha = 0.2$. \n",
    "\n",
    "Most implementations also normalize the encoding vectors  to have norm equal one (i.e., $\\mid \\mid f(img)\\mid \\mid_2$=1); you won't have to worry about that here.\n",
    "\n",
    "**Exercise**: Implement the triplet loss as defined by formula (3). Here are the 4 steps:\n",
    "1. Compute the distance between the encodings of \"anchor\" and \"positive\": $\\mid \\mid f(A^{(i)}) - f(P^{(i)}) \\mid \\mid_2^2$\n",
    "2. Compute the distance between the encodings of \"anchor\" and \"negative\": $\\mid \\mid f(A^{(i)}) - f(N^{(i)}) \\mid \\mid_2^2$\n",
    "3. Compute the formula per training example: $ \\mid \\mid f(A^{(i)}) - f(P^{(i)}) \\mid - \\mid \\mid f(A^{(i)}) - f(N^{(i)}) \\mid \\mid_2^2 + \\alpha$\n",
    "3. Compute the full formula by taking the max with zero and summing over the training examples:\n",
    "$$\\mathcal{J} = \\sum^{N}_{i=1} \\large[ \\small \\mid \\mid f(A^{(i)}) - f(P^{(i)}) \\mid \\mid_2^2 - \\mid \\mid f(A^{(i)}) - f(N^{(i)}) \\mid \\mid_2^2+ \\alpha \\large ] \\small_+ \\tag{3}$$\n",
    "\n",
    "Useful functions: `tf.reduce_sum()`, `tf.square()`, `tf.subtract()`, `tf.add()`, `tf.reduce_mean`, `tf.maximum()`."
   ]
  },
  {
   "cell_type": "code",
   "execution_count": null,
   "metadata": {},
   "outputs": [],
   "source": []
  },
  {
   "cell_type": "markdown",
   "metadata": {},
   "source": [
    "# Extracting Anchor , Positive  and  Negative Set of Images\n",
    "## Encoding face images into a 128-dimensional vector\n",
    "* #--collecting the class_1 images as a Anchor and Positive images for Face Verification\n",
    "* #--collecting the class_2 images as a Negative images  for Face Verification"
   ]
  },
  {
   "cell_type": "code",
   "execution_count": 20,
   "metadata": {},
   "outputs": [
    {
     "name": "stdout",
     "output_type": "stream",
     "text": [
      "(1700, 32, 32, 1)\n",
      "(850, 128) (850, 128)\n",
      "(1700, 32, 32, 1)\n",
      "(850, 128)\n"
     ]
    }
   ],
   "source": [
    "reshaped_data = np.reshape(stacked_up_images,(-1,32,32,1)) \n",
    "\n",
    "#--collecting the class_1 images as a Anchor and Positive images for Face Verification\n",
    "class_1_index = np.where(stacked_up_labels==1)[0]\n",
    "class_1_images = reshaped_data[class_1_index,:,:]\n",
    "\n",
    "print(class_1_images.shape)\n",
    "\n",
    "mid = int(class_1_images.shape[0]/2)\n",
    "\n",
    "Anchor =  pre_trained_model.predict(class_1_images[:mid,:,:])\n",
    "Positive = pre_trained_model.predict(class_1_images[mid:,:,:])\n",
    "\n",
    "print(Anchor.shape,Positive.shape)\n",
    "\n",
    "#--collecting the class_2 images as a Negative images  for Face Verification \n",
    "class_2_index = np.where(stacked_up_labels==2)[0]\n",
    "class_2_images = reshaped_data[class_2_index,:,:]\n",
    "\n",
    "print(class_2_images.shape)\n",
    "\n",
    "Negative = pre_trained_model.predict(class_2_images[:850,:,:])\n",
    "\n",
    "print(Negative.shape)\n",
    "\n",
    "\n",
    "y_true = [None,None,None]\n",
    "y_pred = [Anchor,Positive,Negative]\n",
    "\n"
   ]
  },
  {
   "cell_type": "code",
   "execution_count": 21,
   "metadata": {},
   "outputs": [],
   "source": [
    "def triplet_loss(y_true, y_pred, alpha = 0.2):\n",
    "    anchor,positive,negative = y_pred[0],y_pred[1],y_pred[2]\n",
    "\n",
    "\n",
    "    ### START CODE HERE ### (≈ 4 lines)\n",
    "    # Step 1: Compute the (encoding) distance between the anchor and the positive\n",
    "    pos_dist = tf.reduce_sum(tf.square(tf.subtract(anchor, positive)))\n",
    "    # Step 2: Compute the (encoding) distance between the anchor and the negative\n",
    "    neg_dist = tf.reduce_sum(tf.square(tf.subtract(anchor, negative)))\n",
    "    # Step 3: subtract the two previous distances and add alpha.\n",
    "    basic_loss = tf.add(tf.subtract(pos_dist, neg_dist), alpha)\n",
    "    # Step 4: Take the maximum of basic_loss and 0.0. Sum over the training examples.\n",
    "    loss = tf.maximum(tf.reduce_mean(basic_loss), 0.0)\n",
    "    ### END CODE HERE ###\n",
    "\n",
    "    return loss\n",
    "  \n",
    "  \n"
   ]
  },
  {
   "cell_type": "code",
   "execution_count": 22,
   "metadata": {},
   "outputs": [
    {
     "name": "stdout",
     "output_type": "stream",
     "text": [
      "loss = 0.0\n"
     ]
    }
   ],
   "source": [
    "with tf.Session() as test:\n",
    "    tf.set_random_seed(1)\n",
    "    \n",
    "    loss = triplet_loss(y_true, y_pred)\n",
    "\n",
    "    print(\"loss = \" + str(loss.eval()))"
   ]
  },
  {
   "cell_type": "code",
   "execution_count": null,
   "metadata": {},
   "outputs": [],
   "source": []
  },
  {
   "cell_type": "code",
   "execution_count": 23,
   "metadata": {},
   "outputs": [],
   "source": [
    "pre_trained_model.compile(optimizer = 'adam', loss = triplet_loss, metrics = ['accuracy'])"
   ]
  },
  {
   "cell_type": "markdown",
   "metadata": {},
   "source": [
    "# Face(Image) Verification Function\n",
    "\n",
    "In this function we are taking two different image array.Compare the L2 distance(to the threshold 0.7)"
   ]
  },
  {
   "cell_type": "code",
   "execution_count": 24,
   "metadata": {},
   "outputs": [],
   "source": [
    "def verify(predicted_image,actual_image,pre_trained_model):\n",
    "    \n",
    "    predicted_image_embedding = pre_trained_model.predict(predicted_image)\n",
    "  \n",
    "    actual_image_embedding = pre_trained_model.predict(actual_image)\n",
    "  \n",
    "    dist = np.linalg.norm(predicted_image_embedding - actual_image_embedding)\n",
    "  \n",
    "    if dist<0.7:\n",
    "        print('distance:',dist)\n",
    "        print('image matched')\n",
    "    else:\n",
    "        print('distance:',dist)\n",
    "        print('image not matched')\n",
    "    "
   ]
  },
  {
   "cell_type": "code",
   "execution_count": 25,
   "metadata": {},
   "outputs": [],
   "source": [
    "#--testing values\n",
    "x1 = class_1_images[:1,:,:]  #--Anchor Image\n",
    "x2 = class_1_images[100:101,:,:]  #---Positive Image\n",
    "x3 = class_2_images[10:11,:,:]   #---Negative Image"
   ]
  },
  {
   "cell_type": "markdown",
   "metadata": {},
   "source": [
    "# Verification\n",
    "\n",
    "<img src=\"images/distance_kiank.png\" style=\"width:480px;height:250px;\">"
   ]
  },
  {
   "cell_type": "code",
   "execution_count": 26,
   "metadata": {},
   "outputs": [
    {
     "name": "stdout",
     "output_type": "stream",
     "text": [
      "distance: 2.0079985\n",
      "image not matched\n"
     ]
    }
   ],
   "source": [
    "#--Taking two different images\n",
    "verify(x1,x3,pre_trained_model)"
   ]
  },
  {
   "cell_type": "code",
   "execution_count": 27,
   "metadata": {},
   "outputs": [
    {
     "name": "stdout",
     "output_type": "stream",
     "text": [
      "distance: 0.0029724487\n",
      "image matched\n"
     ]
    }
   ],
   "source": [
    "#--Taking two Same images\n",
    "verify(x1,x2,pre_trained_model)"
   ]
  },
  {
   "cell_type": "code",
   "execution_count": null,
   "metadata": {},
   "outputs": [],
   "source": []
  },
  {
   "cell_type": "markdown",
   "metadata": {},
   "source": [
    "# Image Augmentation\n",
    "\n",
    "* making testing set of images\n",
    "\n",
    "Here we use the concept of Image Augmentation Techinque for making unique test values for testing our model.  "
   ]
  },
  {
   "cell_type": "code",
   "execution_count": 30,
   "metadata": {},
   "outputs": [],
   "source": [
    "from keras.preprocessing.image import ImageDataGenerator\n",
    "\n",
    "datagen = ImageDataGenerator(featurewise_center=True,featurewise_std_normalization=True,horizontal_flip=True, vertical_flip=True,rotation_range=45,width_shift_range=0.2, height_shift_range = 0.2)"
   ]
  },
  {
   "cell_type": "code",
   "execution_count": 31,
   "metadata": {},
   "outputs": [],
   "source": [
    "datagen = ImageDataGenerator(featurewise_center=True,featurewise_std_normalization=True,\n",
    "                             horizontal_flip=True, vertical_flip=True,rotation_range=45,width_shift_range=0.2, \n",
    "                             height_shift_range = 0.2)\n",
    "\n",
    "datagen.fit(class_1_images)"
   ]
  },
  {
   "cell_type": "code",
   "execution_count": 33,
   "metadata": {},
   "outputs": [
    {
     "data": {
      "image/png": "[encoded data removed]",
      "text/plain": [
       "<Figure size 432x288 with 9 Axes>"
      ]
     },
     "metadata": {},
     "output_type": "display_data"
    }
   ],
   "source": [
    "X_train = class_1_images\n",
    "# Y_train = stacked_up_labels[class_1_index]\n",
    "\n",
    "for X_batch in datagen.flow(X_train,batch_size=9,save_to_dir='testing_images',save_prefix='new'):\n",
    "    # create a grid of 3x3 images\n",
    "    for i in range(0, 9):\n",
    "        plt.subplot(330 + 1 + i)\n",
    "        plt.imshow(X_batch[i].reshape(32, 32), cmap=plt.get_cmap('gray'))\n",
    "    # show the plot\n",
    "    plt.show()\n",
    "    break"
   ]
  },
  {
   "cell_type": "code",
   "execution_count": null,
   "metadata": {},
   "outputs": [],
   "source": []
  },
  {
   "cell_type": "code",
   "execution_count": null,
   "metadata": {},
   "outputs": [],
   "source": []
  },
  {
   "cell_type": "code",
   "execution_count": null,
   "metadata": {},
   "outputs": [],
   "source": []
  },
  {
   "cell_type": "markdown",
   "metadata": {},
   "source": [
    "# Face(Image) Recognition"
   ]
  },
  {
   "cell_type": "code",
   "execution_count": null,
   "metadata": {},
   "outputs": [],
   "source": [
    "database = pre_trained_model.predict(reshaped_data)\n",
    "print(database.shape)"
   ]
  },
  {
   "cell_type": "code",
   "execution_count": 45,
   "metadata": {},
   "outputs": [
    {
     "name": "stdout",
     "output_type": "stream",
     "text": [
      "['character_10_yna', 'character_11_taamatar', 'character_12_thaa', 'character_13_daa', 'character_14_dhaa', 'character_15_adna', 'character_16_tabala', 'character_17_tha', 'character_18_da', 'character_19_dha', 'character_1_ka', 'character_20_na', 'character_21_pa', 'character_22_pha', 'character_23_ba', 'character_24_bha', 'character_25_ma', 'character_26_yaw', 'character_27_ra', 'character_28_la', 'character_29_waw', 'character_2_kha', 'character_30_motosaw', 'character_31_petchiryakha', 'character_32_patalosaw', 'character_33_ha', 'character_34_chhya', 'character_35_tra', 'character_36_gya', 'character_3_ga', 'character_4_gha', 'character_5_kna', 'character_6_cha', 'character_7_chha', 'character_8_ja', 'character_9_jha', 'digit_0', 'digit_1', 'digit_2', 'digit_3', 'digit_4', 'digit_5', 'digit_6', 'digit_7', 'digit_8', 'digit_9']\n"
     ]
    }
   ],
   "source": [
    "import os\n",
    "akshar_image_folders = os.listdir(path='train')\n",
    "print(akshar_image_folders)"
   ]
  },
  {
   "cell_type": "code",
   "execution_count": 172,
   "metadata": {},
   "outputs": [],
   "source": [
    "def recognize(image,database,pre_trained_model):\n",
    "    embeded_image = pre_trained_model.predict(image)  #--shape:-(1, 128)\n",
    "    \n",
    "    dist_arr = np.sqrt(np.sum(np.square(np.subtract(embeded_image,database)),axis=1))  #--shape:-(78199, 128)\n",
    "  \n",
    "    min_dist_index = np.argmin(dist_arr)  #--give the index where minimum value is present\n",
    "    \n",
    "#     print(dist_arr[min_dist_index])\n",
    "    \n",
    "    if dist_arr[min_dist_index]<0.3:  #__checking it is below threshold value or not\n",
    "  \n",
    "        print(\"Index No of Image in Database from which it is nearest is:\",min_dist_index)\n",
    "\n",
    "        label = int(stacked_up_labels[min_dist_index,0])\n",
    "\n",
    "        print('Belong from Class:',label)\n",
    "\n",
    "        char_name = akshar_image_folders[label]\n",
    "\n",
    "        print('Name of the character is:-',char_name)\n",
    "\n",
    "        return(stacked_up_images[min_dist_index,:])\n",
    "    \n",
    "    else:\n",
    "        return([])\n",
    "  "
   ]
  },
  {
   "cell_type": "code",
   "execution_count": null,
   "metadata": {},
   "outputs": [],
   "source": []
  },
  {
   "cell_type": "markdown",
   "metadata": {},
   "source": [
    "# Actual Image"
   ]
  },
  {
   "cell_type": "code",
   "execution_count": 169,
   "metadata": {},
   "outputs": [
    {
     "name": "stdout",
     "output_type": "stream",
     "text": [
      "image_shape:- (32, 32)\n"
     ]
    },
    {
     "data": {
      "image/png": "[encoded data removed]",
      "text/plain": [
       "<Figure size 432x288 with 1 Axes>"
      ]
     },
     "metadata": {},
     "output_type": "display_data"
    },
    {
     "name": "stdout",
     "output_type": "stream",
     "text": [
      "reshaped image shape:- (1, 32, 32, 1)\n"
     ]
    }
   ],
   "source": [
    "img = plt.imread('testing_images/new_814_6252.png')\n",
    "print('image_shape:-',img.shape)\n",
    "\n",
    "plt.imshow(img)\n",
    "plt.show()\n",
    "\n",
    "img = img.reshape((1,32,32,1))\n",
    "print(\"reshaped image shape:-\",img.shape)"
   ]
  },
  {
   "cell_type": "markdown",
   "metadata": {},
   "source": [
    "# Predicted Image"
   ]
  },
  {
   "cell_type": "code",
   "execution_count": 171,
   "metadata": {},
   "outputs": [
    {
     "name": "stdout",
     "output_type": "stream",
     "text": [
      "Index No of Database from which it is nearest is: 2978\n",
      "Belong from Class: 1\n",
      "Name of the character is:- character_11_taamatar\n"
     ]
    },
    {
     "data": {
      "image/png": "[encoded data removed]",
      "text/plain": [
       "<Figure size 432x288 with 1 Axes>"
      ]
     },
     "metadata": {},
     "output_type": "display_data"
    }
   ],
   "source": [
    "pred_img = recognize(img,database,pre_trained_model)   #--calling recognize function \n",
    "\n",
    "if (list(pred_img)):\n",
    "    pred_img = pred_img.reshape((32,32))\n",
    "    plt.imshow(pred_img)\n",
    "    plt.show()\n",
    "    \n",
    "else:\n",
    "    print('No Such Image Is In Database')\n",
    "    \n"
   ]
  },
  {
   "cell_type": "code",
   "execution_count": 141,
   "metadata": {},
   "outputs": [],
   "source": []
  },
  {
   "cell_type": "code",
   "execution_count": null,
   "metadata": {},
   "outputs": [],
   "source": []
  }
 ],
 "metadata": {
  "kernelspec": {
   "display_name": "Python 3",
   "language": "python",
   "name": "python3"
  },
  "language_info": {
   "codemirror_mode": {
    "name": "ipython",
    "version": 3
   },
   "file_extension": ".py",
   "mimetype": "text/x-python",
   "name": "python",
   "nbconvert_exporter": "python",
   "pygments_lexer": "ipython3",
   "version": "3.6.5"
  }
 },
 "nbformat": 4,
 "nbformat_minor": 2
}
